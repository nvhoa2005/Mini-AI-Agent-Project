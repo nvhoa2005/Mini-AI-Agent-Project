{
 "cells": [
  {
   "cell_type": "code",
   "execution_count": 15,
   "id": "4533b70a",
   "metadata": {},
   "outputs": [],
   "source": [
    "from dotenv import load_dotenv\n",
    "from openai import OpenAI\n",
    "from IPython.display import Audio\n",
    "import os"
   ]
  },
  {
   "cell_type": "code",
   "execution_count": 3,
   "id": "e45097d9",
   "metadata": {},
   "outputs": [],
   "source": [
    "load_dotenv()\n",
    "OPENAI_MODEL_SUMMARY = os.getenv(\"OPENAI_MODEL_SUMMARY\")  # sinh tóm tắt\n",
    "OPENAI_MODEL_TTS = os.getenv(\"OPENAI_MODEL_TTS\")      # đọc văn bản\n",
    "DEFAULT_VOICE = os.getenv(\"DEFAULT_VOICE\")                   # alloy, coral, verse...\n",
    "DEFAULT_AUDIO_FMT = os.getenv(\"DEFAULT_AUDIO_FMT\")\n",
    "OPENAI_API_KEY = os.getenv(\"OPENAI_API_KEY\")"
   ]
  },
  {
   "cell_type": "markdown",
   "id": "de8d727f",
   "metadata": {},
   "source": [
    "### Tóm tắt văn bản"
   ]
  },
  {
   "cell_type": "code",
   "execution_count": 5,
   "id": "5ec6614a",
   "metadata": {},
   "outputs": [],
   "source": [
    "client = OpenAI(api_key=OPENAI_API_KEY)"
   ]
  },
  {
   "cell_type": "code",
   "execution_count": 6,
   "id": "908a1075",
   "metadata": {},
   "outputs": [],
   "source": [
    "def summarize_text(text: str) -> str:\n",
    "    response = client.chat.completions.create(\n",
    "        model=\"gpt-4o-mini\",\n",
    "        messages=[\n",
    "            {\"role\": \"system\", \"content\": \"Bạn là một trợ lý AI chuyên tóm tắt ngắn gọn và dễ hiểu.\"},\n",
    "            {\"role\": \"user\", \"content\": f\"Hãy tóm tắt đoạn văn sau:\\n\\n{text}\"}\n",
    "        ],\n",
    "        temperature=0.3,\n",
    "        max_tokens=300\n",
    "    )\n",
    "    return response.choices[0].message.content"
   ]
  },
  {
   "cell_type": "code",
   "execution_count": 7,
   "id": "311ff3de",
   "metadata": {},
   "outputs": [
    {
     "data": {
      "text/plain": [
       "'Công nghệ trí tuệ nhân tạo đang phát triển nhanh chóng, ảnh hưởng đến nhiều lĩnh vực như y tế, giáo dục và công nghiệp. Các mô hình ngôn ngữ lớn giúp tự động hóa công việc, nâng cao năng suất và tạo ra cơ hội mới.'"
      ]
     },
     "execution_count": 7,
     "metadata": {},
     "output_type": "execute_result"
    }
   ],
   "source": [
    "input_text = \"\"\"\n",
    "    Công nghệ trí tuệ nhân tạo đang phát triển với tốc độ nhanh chóng, \n",
    "    ảnh hưởng đến mọi lĩnh vực từ y tế, giáo dục đến công nghiệp nặng.\n",
    "    Các mô hình ngôn ngữ lớn giúp tự động hóa nhiều công việc, \n",
    "    cải thiện năng suất và mở ra những cơ hội chưa từng có.\n",
    "    \"\"\"\n",
    "summary = summarize_text(input_text)\n",
    "summary"
   ]
  },
  {
   "cell_type": "markdown",
   "id": "318eec1b",
   "metadata": {},
   "source": [
    "### Text to speech"
   ]
  },
  {
   "cell_type": "code",
   "execution_count": 16,
   "id": "14b54e55",
   "metadata": {},
   "outputs": [],
   "source": [
    "def text_to_speech(text: str):\n",
    "    with client.audio.speech.with_streaming_response.create(\n",
    "        model=\"gpt-4o-mini-tts\",\n",
    "        voice=\"alloy\",         # giọng đọc mặc định\n",
    "        input=text,           # đoạn văn cần đọc\n",
    "    ) as response:\n",
    "        print(\"DONE!\")\n",
    "        return response.read()\n",
    "    return None"
   ]
  },
  {
   "cell_type": "code",
   "execution_count": null,
   "id": "041f6536",
   "metadata": {},
   "outputs": [
    {
     "name": "stdout",
     "output_type": "stream",
     "text": [
      "DONE!\n"
     ]
    }
   ],
   "source": [
    "text = \"Xin chào đây là OPENAI\"\n",
    "audio_bytes = text_to_speech(text)\n",
    "if audio_bytes:\n",
    "    Audio(audio_bytes, autoplay=True)"
   ]
  },
  {
   "cell_type": "code",
   "execution_count": null,
   "id": "98192bfc",
   "metadata": {},
   "outputs": [],
   "source": []
  }
 ],
 "metadata": {
  "kernelspec": {
   "display_name": "venv (3.12.4)",
   "language": "python",
   "name": "python3"
  },
  "language_info": {
   "codemirror_mode": {
    "name": "ipython",
    "version": 3
   },
   "file_extension": ".py",
   "mimetype": "text/x-python",
   "name": "python",
   "nbconvert_exporter": "python",
   "pygments_lexer": "ipython3",
   "version": "3.12.4"
  }
 },
 "nbformat": 4,
 "nbformat_minor": 5
}
